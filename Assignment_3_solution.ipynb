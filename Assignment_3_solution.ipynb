{
 "cells": [
  {
   "cell_type": "markdown",
   "id": "3a056028",
   "metadata": {},
   "source": [
    "#1.Below are the advantages of functions in programming:"
   ]
  },
  {
   "cell_type": "raw",
   "id": "bbd29ce5",
   "metadata": {},
   "source": [
    "i) Functions reduce the need for duplicate code. This makes programs shorter, easier to read, and easier to update. The main advantage of functions is code Reusability.\n",
    "\n",
    "ii) Increases program readability.\n",
    "\n",
    "iii) Divide a complex problem into simpler ones.\n",
    "\n",
    "iv) Reduces chances of error.\n",
    "\n",
    "v) Modifying a program becomes easier by using function"
   ]
  },
  {
   "cell_type": "markdown",
   "id": "be11d763",
   "metadata": {},
   "source": [
    "2. The code in a function executes when the function is called, not when the function is specified. When a function is \"called\" the program \"leaves\" the current section of code and begins to execute the first line inside the function. Example is mentioned below:"
   ]
  },
  {
   "cell_type": "code",
   "execution_count": 13,
   "id": "e5cd077e",
   "metadata": {},
   "outputs": [
    {
     "name": "stdout",
     "output_type": "stream",
     "text": [
      "My name is Sanway Prasad\n",
      "My name is Sunil Changte\n"
     ]
    }
   ],
   "source": [
    "def my_name(fname,lname):\n",
    "    print(f\"My name is {fname} {lname}\")\n",
    "##calling a function\n",
    "my_name(\"Sanway\",\"Prasad\")\n",
    "my_name(\"Sunil\",\"Changte\")"
   ]
  },
  {
   "cell_type": "markdown",
   "id": "ac11a43b",
   "metadata": {},
   "source": [
    "#3. Statement that creates a function"
   ]
  },
  {
   "cell_type": "raw",
   "id": "5955c91d",
   "metadata": {},
   "source": [
    "    The def statement defines a function.\n",
    "The syntax to declare a function is:\n",
    "\n",
    "def function_name(parameter):\n",
    "    statement\n",
    "    return expression\n"
   ]
  },
  {
   "cell_type": "code",
   "execution_count": 14,
   "id": "895ff5aa",
   "metadata": {},
   "outputs": [
    {
     "name": "stdout",
     "output_type": "stream",
     "text": [
      "My name is Sanjay Kumar\n",
      "My name is Mahendra Sharma\n"
     ]
    }
   ],
   "source": [
    "def my_name(fname,lname):\n",
    "    print(f\"My name is {fname} {lname}\")\n",
    "\n",
    "my_name(\"Sanjay\",\"Kumar\")\n",
    "my_name(\"Mahendra\",\"Sharma\")"
   ]
  },
  {
   "cell_type": "markdown",
   "id": "676e53fe",
   "metadata": {},
   "source": [
    "#4. Difference between function and function call:-"
   ]
  },
  {
   "cell_type": "raw",
   "id": "957f3bf6",
   "metadata": {},
   "source": [
    "    A function is a block of code that does a particular operation and returns a result. It usually accepts inputs as parameters and returns a result. The parameters are not mandatory.\n",
    "    A function call is the code used to pass control to a function."
   ]
  },
  {
   "cell_type": "code",
   "execution_count": 4,
   "id": "85f86501",
   "metadata": {},
   "outputs": [
    {
     "data": {
      "text/plain": [
       "256"
      ]
     },
     "execution_count": 4,
     "metadata": {},
     "output_type": "execute_result"
    }
   ],
   "source": [
    "#Function\n",
    "def square(x):\n",
    "    return x**2\n",
    "#Function Call\n",
    "(square(16))"
   ]
  },
  {
   "cell_type": "markdown",
   "id": "f12a8a38",
   "metadata": {},
   "source": [
    "#5. Number of Global and Local Scope"
   ]
  },
  {
   "cell_type": "raw",
   "id": "e22cd1c3",
   "metadata": {},
   "source": [
    "A variable is only available from inside the region it is created. This is called scope.\n",
    "In a Python program, there is typically one global scope and multiple local scopes. Here's an explanation of each:\n",
    "\n",
    "    1. Global Scope: \n",
    "        There is exactly one global scope in a Python program. This global scope includes variables and objects that are defined at the top level of the program, outside of any function or class. Variables defined in the global scope are accessible from anywhere in the program.\n",
    "\n",
    "    2. Local Scopes: \n",
    "        There can be multiple local scopes in a Python program, and they are created whenever you define a function. Each function creates its own local scope, where variables specific to that function are defined. These local variables are only accessible within the function in which they are defined.\n",
    "\n",
    "\n",
    "Here's an example to illustrate global and local scopes:"
   ]
  },
  {
   "cell_type": "code",
   "execution_count": 8,
   "id": "00209af4",
   "metadata": {},
   "outputs": [
    {
     "name": "stdout",
     "output_type": "stream",
     "text": [
      "300\n"
     ]
    },
    {
     "ename": "NameError",
     "evalue": "name 'x' is not defined",
     "output_type": "error",
     "traceback": [
      "\u001b[1;31m---------------------------------------------------------------------------\u001b[0m",
      "\u001b[1;31mNameError\u001b[0m                                 Traceback (most recent call last)",
      "Cell \u001b[1;32mIn[8], line 9\u001b[0m\n\u001b[0;32m      6\u001b[0m     myinnerfunc()\n\u001b[0;32m      8\u001b[0m myfunc()\n\u001b[1;32m----> 9\u001b[0m \u001b[38;5;28mprint\u001b[39m(x)\n",
      "\u001b[1;31mNameError\u001b[0m: name 'x' is not defined"
     ]
    }
   ],
   "source": [
    "#Example of Local Scope\n",
    "def myfunc():\n",
    "    x = 300\n",
    "    def myinnerfunc():\n",
    "        print(x)\n",
    "    myinnerfunc()\n",
    "\n",
    "myfunc()\n",
    "print(x) ##since x is a local scope, we cannot access it from outside the function and it throws a name error."
   ]
  },
  {
   "cell_type": "code",
   "execution_count": 9,
   "id": "58647ee9",
   "metadata": {},
   "outputs": [
    {
     "name": "stdout",
     "output_type": "stream",
     "text": [
      "300\n",
      "300\n"
     ]
    }
   ],
   "source": [
    "#Example of Global Scope\n",
    "x = 300\n",
    "\n",
    "def myfunc():\n",
    "    print(x)\n",
    "\n",
    "myfunc()\n",
    "\n",
    "print(x) ##since x is a global scope, we can access it from anywhere."
   ]
  },
  {
   "cell_type": "markdown",
   "id": "78803deb",
   "metadata": {},
   "source": [
    "#6. What happens to variables in a local scope when the function call returns ---"
   ]
  },
  {
   "cell_type": "raw",
   "id": "7a94fe13",
   "metadata": {},
   "source": [
    "    When a function call in Python returns, the variables defined in the local scope of that function cease to exist. In other words, they are destroyed, and their values are no longer accessible once the function execution completes.\n",
    "    Here's a step-by-step explanation of what happens to local variables when a function call returns:\n",
    "\n",
    "    i) Function Execution: When a function is called, Python creates a local scope for that function. Variables defined within this local scope are only accessible within the function.\n",
    "\n",
    "    ii) Variable Creation: As the function executes, it may define and use local variables. These variables are stored in the function's local scope and are used to perform computations or store intermediate values.\n",
    "\n",
    "    iii)Function Completion: When the function execution reaches its end (either through reaching the end of the function or encountering a return statement), the function's local scope is destroyed. This means that all the local variables defined within the function are deleted.\n",
    "\n",
    "    iv)Variable Inaccessibility: Once the function's local scope is destroyed, any attempt to access the local variables from outside the function will result in an error. These variables are no longer accessible in the broader scope of the program.\n",
    "    Here's an example to illustrate this behavior:"
   ]
  },
  {
   "cell_type": "code",
   "execution_count": 10,
   "id": "2a5ffd39",
   "metadata": {},
   "outputs": [
    {
     "name": "stdout",
     "output_type": "stream",
     "text": [
      "Inside the function: 5\n"
     ]
    },
    {
     "ename": "NameError",
     "evalue": "name 'local_variable' is not defined",
     "output_type": "error",
     "traceback": [
      "\u001b[1;31m---------------------------------------------------------------------------\u001b[0m",
      "\u001b[1;31mNameError\u001b[0m                                 Traceback (most recent call last)",
      "Cell \u001b[1;32mIn[10], line 8\u001b[0m\n\u001b[0;32m      5\u001b[0m example_function()\n\u001b[0;32m      7\u001b[0m \u001b[38;5;66;03m# Attempting to access local_variable from outside the function (will result in an error)\u001b[39;00m\n\u001b[1;32m----> 8\u001b[0m \u001b[38;5;28mprint\u001b[39m(\u001b[38;5;124m\"\u001b[39m\u001b[38;5;124mOutside the function:\u001b[39m\u001b[38;5;124m\"\u001b[39m, local_variable)\n",
      "\u001b[1;31mNameError\u001b[0m: name 'local_variable' is not defined"
     ]
    }
   ],
   "source": [
    "def example_function():\n",
    "    local_variable = 5\n",
    "    print(\"Inside the function:\", local_variable)\n",
    "\n",
    "example_function()\n",
    "\n",
    "# Attempting to access local_variable from outside the function (will result in an error)\n",
    "print(\"Outside the function:\", local_variable)"
   ]
  },
  {
   "cell_type": "markdown",
   "id": "c5e6ad28",
   "metadata": {},
   "source": [
    "#7.concept of a return value"
   ]
  },
  {
   "cell_type": "raw",
   "id": "2bb9dfb6",
   "metadata": {},
   "source": [
    "    The Python return statement is a key component of functions and methods. We can use the return statement to make functions send Python objects back to the caller code. These objects are known as the function’s return value. A return value is the value that a function call evaluates to.\n",
    "    \n",
    "    In Python, it is indeed possible to have a return value in an expression. Functions can return values that can be used directly in expressions, allowing you to perform further computations or operations based on the returned value. Here's an example to illustrate this concept:"
   ]
  },
  {
   "cell_type": "code",
   "execution_count": 11,
   "id": "bf269149",
   "metadata": {},
   "outputs": [
    {
     "name": "stdout",
     "output_type": "stream",
     "text": [
      "Result of addition: 8\n",
      "Result of multiplication: 16\n"
     ]
    }
   ],
   "source": [
    "def add(a, b):\n",
    "    return a + b\n",
    "\n",
    "def multiply(x, y):\n",
    "    return x * y\n",
    "\n",
    "# Using the return values of functions in expressions\n",
    "result1 = add(3, 5)\n",
    "result2 = multiply(result1, 2)\n",
    "\n",
    "print(\"Result of addition:\", result1)\n",
    "print(\"Result of multiplication:\", result2)\n",
    "\n",
    "## In this example, the add function returns the sum of a and b, and the multiply function returns the product of x and y.\n",
    "##You can see that the return values of these functions are directly used in expressions to compute result1 and result2."
   ]
  },
  {
   "cell_type": "markdown",
   "id": "d89d86eb",
   "metadata": {},
   "source": [
    "#8.If a function does not have a return statement..."
   ]
  },
  {
   "cell_type": "raw",
   "id": "8cd3b0e4",
   "metadata": {},
   "source": [
    "    In Python, if a function does not have a return statement or if it has a return statement without a value, the function will implicitly return a special value called None. None represents the absence of a value or the lack of a meaningful result. It is a built-in Python object of type NoneType.\n",
    "    \n",
    "    Here's an example to illustrate this behavior:"
   ]
  },
  {
   "cell_type": "code",
   "execution_count": 12,
   "id": "d36142ac",
   "metadata": {},
   "outputs": [
    {
     "name": "stdout",
     "output_type": "stream",
     "text": [
      "This function does not have a return statement\n",
      "Result of the function: None\n"
     ]
    }
   ],
   "source": [
    "def function_without_return():\n",
    "    print(\"This function does not have a return statement\")\n",
    "\n",
    "result = function_without_return()\n",
    "\n",
    "print(\"Result of the function:\", result)  # This will print \"Result of the function: None\"\n",
    "\n",
    "##In this example, function_without_return does not have a return statement that specifies a value to return.\n",
    "##When you call this function, it executes the print statement but doesn't explicitly return anything. \n",
    "##Therefore, the result of the function call is None, and you can see it printed when you try to access the result."
   ]
  },
  {
   "cell_type": "markdown",
   "id": "d24ebbdb",
   "metadata": {},
   "source": [
    "#9. making a function variable refer to the global variable"
   ]
  },
  {
   "cell_type": "raw",
   "id": "b4e8e85d",
   "metadata": {},
   "source": [
    "    In Python, to make a function variable refer to a global variable, we need to use the 'global' keyword within the function to explicitly declare that we intend to modify the global variable, not create a new local variable with the same name.\n",
    "    Here's an example to illustrate this:"
   ]
  },
  {
   "cell_type": "code",
   "execution_count": 13,
   "id": "09ef600a",
   "metadata": {},
   "outputs": [
    {
     "name": "stdout",
     "output_type": "stream",
     "text": [
      "Before function call: 10\n",
      "After function call: 15\n"
     ]
    }
   ],
   "source": [
    "global_variable = 10\n",
    "\n",
    "def modify_global_variable():\n",
    "    global global_variable  # Declare the intention to use the global variable\n",
    "    global_variable += 5\n",
    "\n",
    "print(\"Before function call:\", global_variable)\n",
    "modify_global_variable()\n",
    "print(\"After function call:\", global_variable)\n",
    "\n",
    "##\n",
    "##In this example, we first define a global variable global_variable with an initial value of 10. \n",
    "##Then, within the modify_global_variable function, we use the global keyword to indicate that we want to modify the global variable,\n",
    "##not create a new local variable with the same name.\n",
    "##We increment the global variable by 5 within the function."
   ]
  },
  {
   "cell_type": "markdown",
   "id": "3df4ca2d",
   "metadata": {},
   "source": [
    "#10. The data type of None is NoneType."
   ]
  },
  {
   "cell_type": "markdown",
   "id": "c469599f",
   "metadata": {},
   "source": [
    "#11. That import statement imports a module named areallyourpetsnamederic."
   ]
  },
  {
   "cell_type": "markdown",
   "id": "03dcf0b4",
   "metadata": {},
   "source": [
    "#12. This function can be called with spam.bacon()."
   ]
  },
  {
   "cell_type": "markdown",
   "id": "df87d15f",
   "metadata": {},
   "source": [
    "#13. to save a programme from crashing if it encounters an error"
   ]
  },
  {
   "cell_type": "raw",
   "id": "2f43d453",
   "metadata": {},
   "source": [
    "    To prevent a program from crashing when it encounters an error, we can implement error handling techniques. Error handling allows us to gracefully handle exceptions or unexpected situations, providing a way to recover from errors or at least ensure that the program doesn't terminate abruptly.\n",
    "    \n",
    "    Here are some strategies and tools that can be used to handle errors and prevent program crashes in Python:\n",
    "    \n",
    "        i)Try-Except Blocks: Using try and except blocks to catch and handle exceptions. Wrap the potentially error-prone code within a try block and specify how to handle specific exceptions in the corresponding except blocks.\n",
    "        \n",
    "        ii)Finally Blocks: We can also include a finally block after the try and except blocks to ensure that certain cleanup or finalization code is executed regardless of whether an exception occurred.\n",
    "        \n",
    "        iii)Specific Exception Handling: Handle specific exceptions rather than using a generic except block. This allows us to respond differently to different types of errors.\n",
    "        \n",
    "        iv)Logging: Implement logging to record information about errors and program behavior. This can be invaluable for debugging and troubleshooting.\n",
    "      "
   ]
  },
  {
   "cell_type": "code",
   "execution_count": 16,
   "id": "7cf0b7e5",
   "metadata": {},
   "outputs": [
    {
     "name": "stdout",
     "output_type": "stream",
     "text": [
      "50\n",
      "code executed\n"
     ]
    }
   ],
   "source": [
    " x=50\n",
    "\n",
    "try:\n",
    "    print(x)\n",
    "except SomeException as e:\n",
    "    print(\"An exception occurred\")\n",
    "finally:\n",
    "    print(\"code executed\")"
   ]
  },
  {
   "cell_type": "markdown",
   "id": "c7b1c5b4",
   "metadata": {},
   "source": [
    "#14. The try and except clauses in Python are used for error handling and exception handling. They serve distinct purposes:"
   ]
  },
  {
   "cell_type": "raw",
   "id": "b8c948d0",
   "metadata": {},
   "source": [
    "i)Try Clause (try block):\n",
    "    Purpose: The try clause is used to enclose a block of code that might raise an exception (an error). The primary purpose of the try clause is to define a section of code where you anticipate the possibility of an exception occurring.\n",
    "    \n",
    "ii)Except Clause (except block):\n",
    "    Purpose: The except clause is used to specify how to handle exceptions that may occur within the try block. It defines what actions should be taken when a particular exception is raised."
   ]
  },
  {
   "cell_type": "raw",
   "id": "77b88f9d",
   "metadata": {},
   "source": [
    "Here's a basic example of using try and except to handle a potential division by zero error:"
   ]
  },
  {
   "cell_type": "code",
   "execution_count": 17,
   "id": "998636dd",
   "metadata": {},
   "outputs": [
    {
     "name": "stdout",
     "output_type": "stream",
     "text": [
      "Error: division by zero\n"
     ]
    }
   ],
   "source": [
    "try:\n",
    "    numerator = 10\n",
    "    denominator = 0\n",
    "    result = numerator / denominator  # Potential division by zero\n",
    "except ZeroDivisionError as e:\n",
    "    print(\"Error:\", e)\n",
    "else:\n",
    "    print(\"Result:\", result)"
   ]
  },
  {
   "cell_type": "code",
   "execution_count": null,
   "id": "20546ccc",
   "metadata": {},
   "outputs": [],
   "source": []
  }
 ],
 "metadata": {
  "kernelspec": {
   "display_name": "Python 3 (ipykernel)",
   "language": "python",
   "name": "python3"
  },
  "language_info": {
   "codemirror_mode": {
    "name": "ipython",
    "version": 3
   },
   "file_extension": ".py",
   "mimetype": "text/x-python",
   "name": "python",
   "nbconvert_exporter": "python",
   "pygments_lexer": "ipython3",
   "version": "3.11.3"
  }
 },
 "nbformat": 4,
 "nbformat_minor": 5
}
